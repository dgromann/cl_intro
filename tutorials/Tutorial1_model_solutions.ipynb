{
  "nbformat": 4,
  "nbformat_minor": 0,
  "metadata": {
    "colab": {
      "provenance": [],
      "include_colab_link": true
    },
    "kernelspec": {
      "name": "python3",
      "display_name": "Python 3"
    }
  },
  "cells": [
    {
      "cell_type": "markdown",
      "metadata": {
        "id": "view-in-github",
        "colab_type": "text"
      },
      "source": [
        "<a href=\"https://colab.research.google.com/github/dgromann/cl_intro/blob/main/tutorials/Tutorial1_model_solutions.ipynb\" target=\"_parent\"><img src=\"https://colab.research.google.com/assets/colab-badge.svg\" alt=\"Open In Colab\"/></a>"
      ]
    },
    {
      "cell_type": "markdown",
      "source": [
        "# Tutorial 1: Introduction to Computational Linguistics\n",
        "\n",
        "This is the first tutorial with practical exercises for the lecture *Introduction to Computational Linguistics* in the winter semester 2023. Hands-on exercises are marked with 👋 ⚒ and questions are marked with ❓."
      ],
      "metadata": {
        "id": "N4_fSCGEAFZ3"
      }
    },
    {
      "metadata": {
        "id": "ZvZfzSn7bXVl"
      },
      "cell_type": "markdown",
      "source": [
        "## **Store this notebook**\n",
        "\n",
        "Go to **File** and make sure you store this file as a local copy to either your GitHub or Google Drive. If you do not have a Google account and also do not want to create one, please check Option C below."
      ]
    },
    {
      "metadata": {
        "id": "K7PUvU1f4H7C"
      },
      "cell_type": "markdown",
      "source": [
        "\n",
        "## Option A)  Google Drive\n",
        "\n",
        "Go to the menu **File** and click on **Save a Copy in Drive**. The advantage of this option is that your changes in the notebook will be saved regularly. If you wish to move the file to a specific folder, click on **Move** and the select the corresponding folder in your Google Drive.\n"
      ]
    },
    {
      "metadata": {
        "id": "yVnqNjmt4O3y"
      },
      "cell_type": "markdown",
      "source": [
        "## Option B) GitHub\n",
        "\n",
        "\n",
        "Go to the menu **File** and click on **Save a Copy in GitHub**, select the repository on your GitHub account to which you wish to push the Colab notebook. Note that this option does not automatically save changes in your Colab notebook."
      ]
    },
    {
      "metadata": {
        "id": "3GhgHq-n4hZX"
      },
      "cell_type": "markdown",
      "source": [
        "## Option C) Download this notebook as ipynb (Jupyter notebook) or py (Python file)\n",
        "\n",
        "To run this notebook as Jupyter notebook or Python file on your local machine, Python and NLTK need to be installed. Within the course of the semester several more local installations will be required.  \n",
        "\n",
        "To run a Jupyter notebook the easiest option is to install [Anacadonda](https://www.anaconda.com/). A Python file can be run directly from the command line or in an Integrated Development Environment (IDE), such as [PyCharm](https://www.jetbrains.com/de-de/pycharm/)."
      ]
    },
    {
      "metadata": {
        "id": "jHzL2Qjivc0N"
      },
      "cell_type": "markdown",
      "source": [
        "-----------\n",
        "\n",
        "## **Lesson 0.0: Hello World**\n",
        "👋 ⚒\n",
        "1. Create a Code cell by clicking on **+ Code** below the main menu.\n",
        "1. Write a command that prints the string \"Hello world!\".\n",
        "\n",
        "```\n",
        "#for example\n",
        "print(\"Dagmar says \\\"Hello\\\"!\")\n",
        "```\n",
        "\n",
        "4. Go to the code cell and click the **play** button, which is only visible when you move your cursor to the code cell.\n",
        "    \n",
        "\n",
        "\n"
      ]
    },
    {
      "metadata": {
        "id": "1FdcGIjPuBYP"
      },
      "cell_type": "markdown",
      "source": [
        "-----------\n",
        "## **Lesson 0.1: Simple Variables and Operations**\n",
        "Python is a programming language that uses indentation to structure statements into blocks, instead of brackets.\n",
        "\n",
        "\n",
        "👋 ⚒ Change the example below so that it can run correctly.\n",
        "\n"
      ]
    },
    {
      "metadata": {
        "id": "nF_cL6UMusZG",
        "colab": {
          "base_uri": "https://localhost:8080/"
        },
        "outputId": "ab9e7bc6-5213-42f5-fdba-6150b3a84cfb"
      },
      "cell_type": "code",
      "source": [
        "# Exercise: what needs to be corrected so that the following code runs correctly?\n",
        "x = 1\n",
        "if x == 1:\n",
        "  print(\"x is 1.\")"
      ],
      "execution_count": null,
      "outputs": [
        {
          "output_type": "stream",
          "name": "stdout",
          "text": [
            "x is 1.\n"
          ]
        }
      ]
    },
    {
      "metadata": {
        "id": "mC68rLi-u_KX"
      },
      "cell_type": "markdown",
      "source": [
        "Variables and types in Python are very similar to other programming languages. Run the examples below to see what happens.\n",
        "\n",
        "❓ What happens in the command `int(my_float)`?\n",
        "\n",
        "Answer: the variable of type float is converted to a vaiable of type integer (type conversion)"
      ]
    },
    {
      "metadata": {
        "id": "SPtFMmfM10BY",
        "cellView": "code",
        "colab": {
          "base_uri": "https://localhost:8080/"
        },
        "outputId": "22effbcc-0d02-482d-9ab6-f863c98f1c21"
      },
      "cell_type": "code",
      "source": [
        "# Integer\n",
        "my_int = 7\n",
        "print(my_int)\n",
        "\n",
        "# Float\n",
        "my_float = 7.0\n",
        "print(my_float)\n",
        "\n",
        "# String\n",
        "my_string = \"Computational Linguistics\"\n",
        "print(my_string)\n",
        "\n",
        "# What happens here?\n",
        "my_float = int(my_float)\n",
        "print(my_float)\n",
        "print(type(my_float))"
      ],
      "execution_count": null,
      "outputs": [
        {
          "output_type": "stream",
          "name": "stdout",
          "text": [
            "7\n",
            "7.0\n",
            "Computational Linguistics\n",
            "7\n"
          ]
        }
      ]
    },
    {
      "cell_type": "markdown",
      "source": [
        "👋 ⚒ Follow the instructions in the following code cells and perform the exercises."
      ],
      "metadata": {
        "id": "LlDG3YcL9Gke"
      }
    },
    {
      "metadata": {
        "id": "gYYr9z-eEjS4",
        "colab": {
          "base_uri": "https://localhost:8080/"
        },
        "outputId": "7dd57ff9-dcb8-4a53-c440-f78be40f89eb"
      },
      "cell_type": "code",
      "source": [
        "# Exercise: Run 12/(4+3) and 3*3 and print the results of both operations\n",
        "print(12/(4+3))\n",
        "print(3*3)"
      ],
      "execution_count": null,
      "outputs": [
        {
          "output_type": "stream",
          "name": "stdout",
          "text": [
            "1.7142857142857142\n",
            "9\n"
          ]
        }
      ]
    },
    {
      "metadata": {
        "id": "Yi8qazw5Emp4",
        "colab": {
          "base_uri": "https://localhost:8080/"
        },
        "outputId": "7c0f2787-e998-481c-9ef0-fa0e36cbd332"
      },
      "cell_type": "code",
      "source": [
        "# Exercise: Print the variable my_string three times without repeating the variable itself\n",
        "print(my_string*3)\n",
        "#With whitespaces\n",
        "print((my_string+\" \")*3)"
      ],
      "execution_count": null,
      "outputs": [
        {
          "output_type": "stream",
          "name": "stdout",
          "text": [
            "Computational LinguisticsComputational LinguisticsComputational Linguistics\n",
            "Computational Linguistics Computational Linguistics Computational Linguistics \n"
          ]
        }
      ]
    },
    {
      "metadata": {
        "id": "5Oz_liBoEhTJ",
        "colab": {
          "base_uri": "https://localhost:8080/"
        },
        "outputId": "8bafe559-31ad-4087-eafa-cd68617522a0"
      },
      "cell_type": "code",
      "source": [
        "# Some additional operators\n",
        "print(\"remainder = \", 11 % 3)\n",
        "print(\"squared = \", 11 ** 2)\n",
        "print(\"cubed = \", 11 ** 3)"
      ],
      "execution_count": null,
      "outputs": [
        {
          "output_type": "stream",
          "name": "stdout",
          "text": [
            "remainder =  2\n",
            "squared =  121\n",
            "cubed =  1331\n"
          ]
        }
      ]
    },
    {
      "metadata": {
        "id": "DOgOijM74rqf"
      },
      "cell_type": "markdown",
      "source": [
        "Strings can not only be multiplied but also concatenated. Let's look at some additional string operations."
      ]
    },
    {
      "metadata": {
        "id": "Sj8ut_tk9Cwg",
        "colab": {
          "base_uri": "https://localhost:8080/"
        },
        "outputId": "7c6e6d62-56f0-4782-9ac9-72c0ade2c7ca"
      },
      "cell_type": "code",
      "source": [
        "# String concatenation\n",
        "first = \"first\"\n",
        "second = \"second\"\n",
        "third = first + \" \" + second\n",
        "print(third)\n",
        "\n",
        "one_more = \"Don't worry about apostrophes\"\n",
        "print(one_more)"
      ],
      "execution_count": null,
      "outputs": [
        {
          "output_type": "stream",
          "name": "stdout",
          "text": [
            "first second\n",
            "Don't worry about apostrophes\n"
          ]
        }
      ]
    },
    {
      "cell_type": "code",
      "source": [
        "# Several variables can be initialized at the same time\n",
        "a,b = 1,2\n",
        "print(\"Initializing and printing: \",a,b,a+b)"
      ],
      "metadata": {
        "id": "cYK9TgmVEcFd",
        "colab": {
          "base_uri": "https://localhost:8080/"
        },
        "outputId": "356b1856-d849-4107-ca4a-5f454202ba07"
      },
      "execution_count": null,
      "outputs": [
        {
          "output_type": "stream",
          "name": "stdout",
          "text": [
            "Initializing and printing:  1 2 3\n"
          ]
        }
      ]
    },
    {
      "metadata": {
        "id": "VRIR23C6E7jr",
        "colab": {
          "base_uri": "https://localhost:8080/",
          "height": 217
        },
        "outputId": "a783abaf-9e16-4960-c733-61d0d54a7f72"
      },
      "cell_type": "code",
      "source": [
        "# Different types of variables cannot be concatenated directly\n",
        "print(\"This does not work: \", first + a + b)\n",
        "print(\"This works: \", first, a, b)"
      ],
      "execution_count": null,
      "outputs": [
        {
          "output_type": "error",
          "ename": "TypeError",
          "evalue": "ignored",
          "traceback": [
            "\u001b[0;31m---------------------------------------------------------------------------\u001b[0m",
            "\u001b[0;31mTypeError\u001b[0m                                 Traceback (most recent call last)",
            "\u001b[0;32m<ipython-input-9-3bda4dffdc73>\u001b[0m in \u001b[0;36m<cell line: 2>\u001b[0;34m()\u001b[0m\n\u001b[1;32m      1\u001b[0m \u001b[0;31m# Different types of variables cannot be concatenated directly\u001b[0m\u001b[0;34m\u001b[0m\u001b[0;34m\u001b[0m\u001b[0m\n\u001b[0;32m----> 2\u001b[0;31m \u001b[0mprint\u001b[0m\u001b[0;34m(\u001b[0m\u001b[0;34m\"This does not work: \"\u001b[0m\u001b[0;34m,\u001b[0m \u001b[0mfirst\u001b[0m \u001b[0;34m+\u001b[0m \u001b[0ma\u001b[0m \u001b[0;34m+\u001b[0m \u001b[0mb\u001b[0m\u001b[0;34m)\u001b[0m\u001b[0;34m\u001b[0m\u001b[0;34m\u001b[0m\u001b[0m\n\u001b[0m\u001b[1;32m      3\u001b[0m \u001b[0mprint\u001b[0m\u001b[0;34m(\u001b[0m\u001b[0;34m\"This works: \"\u001b[0m\u001b[0;34m,\u001b[0m \u001b[0mfirst\u001b[0m\u001b[0;34m,\u001b[0m \u001b[0ma\u001b[0m\u001b[0;34m,\u001b[0m \u001b[0mb\u001b[0m\u001b[0;34m)\u001b[0m\u001b[0;34m\u001b[0m\u001b[0;34m\u001b[0m\u001b[0m\n",
            "\u001b[0;31mTypeError\u001b[0m: can only concatenate str (not \"int\") to str"
          ]
        }
      ]
    },
    {
      "cell_type": "markdown",
      "source": [
        "👋 ⚒ Create a variable that combines the string **first** with the variable **a** to obtain \"first1\"."
      ],
      "metadata": {
        "id": "Y-cBGyz6EVx_"
      }
    },
    {
      "cell_type": "code",
      "source": [
        "#Your code here\n",
        "new_string = first + str(a)\n",
        "print(new_string)"
      ],
      "metadata": {
        "id": "ncW9hIRbEzZH",
        "colab": {
          "base_uri": "https://localhost:8080/"
        },
        "outputId": "b7b6900c-9db9-4444-b69a-de446bbb062b"
      },
      "execution_count": null,
      "outputs": [
        {
          "output_type": "stream",
          "name": "stdout",
          "text": [
            "first1\n"
          ]
        }
      ]
    },
    {
      "metadata": {
        "id": "_zG0OdiC_90W"
      },
      "cell_type": "markdown",
      "source": [
        "👋 ⚒ Change the following float, integer, and string in a way that all three are printed with the provided print statements.\n"
      ]
    },
    {
      "metadata": {
        "id": "2likxUgrAmZz",
        "colab": {
          "base_uri": "https://localhost:8080/"
        },
        "outputId": "1a59718f-d2da-4c68-9cac-aabbb107ed1a"
      },
      "cell_type": "code",
      "source": [
        "# Exercise: change the values of the three variables below so that their\n",
        "# values are printed by the test code\n",
        "mystring = \"hello\"\n",
        "myfloat = 10.0\n",
        "myint = 20\n",
        "\n",
        "# Test code\n",
        "if mystring == \"hello\":\n",
        "    print(\"String: %s\" % mystring)\n",
        "if isinstance(myfloat, float) and myfloat == 10.0:\n",
        "    print(\"Float: %f\" % myfloat)\n",
        "if isinstance(myint, int) and myint == 20:\n",
        "    print(\"Integer: %d\" % myint)"
      ],
      "execution_count": null,
      "outputs": [
        {
          "output_type": "stream",
          "name": "stdout",
          "text": [
            "String: hello\n",
            "Float: 10.000000\n",
            "Integer: 20\n"
          ]
        }
      ]
    },
    {
      "metadata": {
        "id": "V2H8t7u_opFk"
      },
      "cell_type": "markdown",
      "source": [
        "Python also provides a range of very useful string indexing functions explained below."
      ]
    },
    {
      "metadata": {
        "id": "YIimnHZYoxV_",
        "colab": {
          "base_uri": "https://localhost:8080/"
        },
        "outputId": "a6282ba4-8e2a-4fa8-95c5-32953f4a07ed"
      },
      "cell_type": "code",
      "source": [
        "# Indexing\n",
        "print(\"Second letter: \", my_string[1:2])\n",
        "print(\"Second to last letter: \", my_string[1:])\n",
        "print(\"All but last letter: \", my_string[:-1])\n",
        "print(\"Only last letter: \", my_string[-1:])\n",
        "print()\n",
        "\n",
        "print(\"Letters 3 to 7: \", my_string[3:7])\n",
        "print(\"Letters 3 to last skipping one character: \", my_string[3::2])\n",
        "print(\"This is slice syntax of type [start:stop:stepsize]\")\n",
        "print()"
      ],
      "execution_count": null,
      "outputs": [
        {
          "output_type": "stream",
          "name": "stdout",
          "text": [
            "Second letter:  o\n",
            "Second to last letter:  omputational Linguistics\n",
            "All but last letter:  Computational Linguistic\n",
            "Only last letter:  s\n",
            "\n",
            "Letters 3 to 7:  puta\n",
            "Letters 3 to last skipping one character:  pttoa igitc\n",
            "This is slice syntax of type [start:stop:stepsize]\n",
            "\n"
          ]
        }
      ]
    },
    {
      "metadata": {
        "id": "6q3_LaidqWup",
        "colab": {
          "base_uri": "https://localhost:8080/"
        },
        "outputId": "64845538-d926-4300-85eb-5b51d30c0863"
      },
      "cell_type": "code",
      "source": [
        "# Further string operations\n",
        "print(\"Length of a string: \", len(my_string))\n",
        "print(\"Counting letter 'i': \", my_string.count(\"i\"))\n",
        "\n",
        "print(\"Lower casing \", my_string.lower())\n",
        "print(\"Upper casing \", my_string.upper())\n",
        "print(\"Check for start \", my_string.startswith(\"Semantic\"))\n",
        "print(\"Check for ending \", my_string.endswith(\"g\"), my_string.endswith(\"a\"), my_string.endswith(\"Computing\"))\n",
        "\n",
        "print(\"Splitting the string based on blank space creates a list\", my_string.split(\" \"))\n"
      ],
      "execution_count": null,
      "outputs": [
        {
          "output_type": "stream",
          "name": "stdout",
          "text": [
            "Length of a string:  25\n",
            "Counting letter 'i':  4\n",
            "Lower casing  computational linguistics\n",
            "Upper casing  COMPUTATIONAL LINGUISTICS\n",
            "Check for start  False\n",
            "Check for ending  False False False\n",
            "Splitting the string based on blank space creates a list ['Computational', 'Linguistics']\n"
          ]
        }
      ]
    },
    {
      "cell_type": "markdown",
      "source": [
        "👋 ⚒ Try out the string operations in the following exercises."
      ],
      "metadata": {
        "id": "M5rBvDP_DB9K"
      }
    },
    {
      "metadata": {
        "id": "Oa1-iFaLrA1c",
        "colab": {
          "base_uri": "https://localhost:8080/"
        },
        "outputId": "4ce9c97c-8324-4cdd-c28a-4351dd1faede"
      },
      "cell_type": "code",
      "source": [
        "tester = \"Hey there! What should this string be?\"\n",
        "\n",
        "# Exercise: Calculate the lenght of the string tester\n",
        "print(\"Length of s = %d\" % len(tester))\n",
        "\n",
        "# First occurrence of \"a\" should be at index 8\n",
        "print(\"The first occurrence of the letter a = %d\" % tester.index(\"a\"))\n",
        "\n",
        "# Exercise: count the number of times \"a\" occurs in the string tester\n",
        "print(\"a occurs %d times\" % tester.count(\"a\"))\n",
        "\n",
        "# Exercise: Ensure the string starts with \"Hey\"\n",
        "if tester.startswith(\"Hey\"):\n",
        "    print(\"String starts with 'Hey'. Good!\")"
      ],
      "execution_count": null,
      "outputs": [
        {
          "output_type": "stream",
          "name": "stdout",
          "text": [
            "Length of s = 38\n",
            "The first occurrence of the letter a = 13\n",
            "a occurs 1 times\n",
            "String starts with 'Hey'. Good!\n"
          ]
        }
      ]
    },
    {
      "cell_type": "markdown",
      "source": [
        "----------\n",
        "## **Lesson 0.2: Collections**\n",
        "\n",
        "Python has several built-in types that are useful for storing and manipulating data: list, tuple, dict. Here is the official Python documentation on these types (and many others): https://docs.python.org/3/library/stdtypes.html.\n"
      ],
      "metadata": {
        "id": "w0haUFZ8_K2j"
      }
    },
    {
      "cell_type": "markdown",
      "source": [
        "## Lists\n",
        "\n",
        "Lists are a type of array."
      ],
      "metadata": {
        "id": "7eJ_dFGE_0a4"
      }
    },
    {
      "cell_type": "code",
      "source": [
        "branches = [\"phonetics\", \"phonology\"]"
      ],
      "metadata": {
        "id": "qCs_0Ayn_zzq"
      },
      "execution_count": null,
      "outputs": []
    },
    {
      "cell_type": "code",
      "source": [
        "# Access element list by index\n",
        "print(branches[0])"
      ],
      "metadata": {
        "id": "IF8vDuNTAVVf",
        "colab": {
          "base_uri": "https://localhost:8080/"
        },
        "outputId": "5bb7293c-9fee-4f5a-b354-2f362efff1b6"
      },
      "execution_count": null,
      "outputs": [
        {
          "output_type": "stream",
          "name": "stdout",
          "text": [
            "phonetics\n"
          ]
        }
      ]
    },
    {
      "cell_type": "code",
      "source": [
        "# Append to list adds elements at the end of the list\n",
        "branches.append(\"morphology\")\n",
        "print(branches)"
      ],
      "metadata": {
        "id": "M7gYTvG0Aadc",
        "colab": {
          "base_uri": "https://localhost:8080/"
        },
        "outputId": "83e65105-9cb4-406a-c265-b390e851bc2e"
      },
      "execution_count": null,
      "outputs": [
        {
          "output_type": "stream",
          "name": "stdout",
          "text": [
            "['phonetics', 'phonology', 'morphology']\n"
          ]
        }
      ]
    },
    {
      "cell_type": "code",
      "source": [
        "# Get length of list\n",
        "print(len(branches))"
      ],
      "metadata": {
        "id": "MPP9YKwbAiPQ",
        "colab": {
          "base_uri": "https://localhost:8080/"
        },
        "outputId": "78c870b0-01e4-499b-ef56-79990f9d1659"
      },
      "execution_count": null,
      "outputs": [
        {
          "output_type": "stream",
          "name": "stdout",
          "text": [
            "3\n"
          ]
        }
      ]
    },
    {
      "cell_type": "code",
      "source": [
        "# Count the number of times an element is in a list\n",
        "print(branches.count(\"phonology\"))"
      ],
      "metadata": {
        "id": "es_5-k0yB8Ga",
        "colab": {
          "base_uri": "https://localhost:8080/"
        },
        "outputId": "2f231d3e-6d93-412c-d094-a16b8c33227e"
      },
      "execution_count": null,
      "outputs": [
        {
          "output_type": "stream",
          "name": "stdout",
          "text": [
            "1\n"
          ]
        }
      ]
    },
    {
      "cell_type": "code",
      "source": [
        "# Concatenate two lists\n",
        "# += operator is a short hand for list1 = list1 + list2 (can also be used for -, *, / and on other types of variables)\n",
        "branches += [\"semantics\", \"pragmatics\"]\n",
        "print(branches)"
      ],
      "metadata": {
        "id": "NjwD6wV8AnQ9",
        "colab": {
          "base_uri": "https://localhost:8080/"
        },
        "outputId": "075ba950-7d1a-462f-e1b8-8e27c330030f"
      },
      "execution_count": null,
      "outputs": [
        {
          "output_type": "stream",
          "name": "stdout",
          "text": [
            "['phonetics', 'phonology', 'morphology', 'semantics', 'pragmatics']\n"
          ]
        }
      ]
    },
    {
      "cell_type": "code",
      "source": [
        "# Create an empty list with two different options\n",
        "more_names = []\n",
        "more_names = list()"
      ],
      "metadata": {
        "id": "U2AuGq14A9XK"
      },
      "execution_count": null,
      "outputs": []
    },
    {
      "cell_type": "code",
      "source": [
        "# Create a list that contains different data types, this is allowed in Python\n",
        "stuff = [3, [\"Hey\", \"there!\"], -0.31, None]\n",
        "print(stuff)"
      ],
      "metadata": {
        "id": "XdYw6svYA_Z8",
        "colab": {
          "base_uri": "https://localhost:8080/"
        },
        "outputId": "be3275ef-a2fd-4a67-aa2e-ad1d6bd1e6cd"
      },
      "execution_count": null,
      "outputs": [
        {
          "output_type": "stream",
          "name": "stdout",
          "text": [
            "[3, ['Hey', 'there!'], -0.31, None]\n"
          ]
        }
      ]
    },
    {
      "cell_type": "markdown",
      "source": [
        "👋 ⚒ Change **x_list**, **y_list**, and **big_list** so that the test code prints the provided statements."
      ],
      "metadata": {
        "id": "Rj-YZQqI9fFv"
      }
    },
    {
      "metadata": {
        "id": "jLMEOLeNFuCd",
        "colab": {
          "base_uri": "https://localhost:8080/"
        },
        "outputId": "618f9e8f-bcfc-4a1e-d26f-5e648968130c"
      },
      "cell_type": "code",
      "source": [
        "x = \"try\"\n",
        "y = \"this\"\n",
        "\n",
        "# To change\n",
        "x_list = [x]*10\n",
        "y_list = [y]*10\n",
        "# big_list should be a combination of the two lists above\n",
        "big_list = x_list + y_list\n",
        "\n",
        "print(\"x_list contains %d objects\" % len(x_list))\n",
        "print(\"y_list contains %d objects\" % len(y_list))\n",
        "print(\"big_list contains %d objects\" % len(big_list))\n",
        "\n",
        "# Test code\n",
        "if x_list.count(x) == 10 and y_list.count(y) == 10:\n",
        "    print(\"Almost there...\")\n",
        "if big_list.count(x) == 10 and big_list.count(y) == 10:\n",
        "    print(\"Great!\")"
      ],
      "execution_count": null,
      "outputs": [
        {
          "output_type": "stream",
          "name": "stdout",
          "text": [
            "x_list contains 10 objects\n",
            "y_list contains 10 objects\n",
            "big_list contains 20 objects\n",
            "Almost there...\n",
            "Great!\n"
          ]
        }
      ]
    },
    {
      "cell_type": "markdown",
      "source": [
        "👋 ⚒ Get the first two elements of **list1** directly in a print statement using slicing."
      ],
      "metadata": {
        "id": "avMMW0tfAZxG"
      }
    },
    {
      "cell_type": "code",
      "source": [
        "# Your code to print \"This\", \"is\"\n",
        "list1 = [\"This\", \"is\", \"a\", \"list\"]"
      ],
      "metadata": {
        "id": "5GAt6JT0DZ2O"
      },
      "execution_count": null,
      "outputs": []
    },
    {
      "cell_type": "code",
      "source": [
        "# To iterate over two lists at the same time, you can use the function zip\n",
        "list2 = [1, 2, 3, 4]\n",
        "\n",
        "for elem_list1, elem_list2 in zip(list1, list2):\n",
        "  print(elem_list1, elem_list2)"
      ],
      "metadata": {
        "id": "y2gr2UDWIg_i",
        "colab": {
          "base_uri": "https://localhost:8080/"
        },
        "outputId": "ca0524e3-af82-4a93-e92a-578d444f0cb1"
      },
      "execution_count": null,
      "outputs": [
        {
          "output_type": "stream",
          "name": "stdout",
          "text": [
            "This 1\n",
            "is 2\n",
            "a 3\n",
            "list 4\n"
          ]
        }
      ]
    },
    {
      "cell_type": "code",
      "source": [
        "# When you want to deduplicate a list, it is easiest to convert it into a set\n",
        "list1 = [\"This\", \"is\", \"a\", \"list\", \"list\", \"list\", \"list\"]\n",
        "print(set(list1))\n",
        "\n",
        "# There is a built in function to calculate the overlap of elements between a set and a list\n",
        "list2 = [\"This\", \"also\", \"is\", \"a\", \"list\"]\n",
        "set(list1).intersection(list2)"
      ],
      "metadata": {
        "id": "ANFjzysidsed",
        "colab": {
          "base_uri": "https://localhost:8080/"
        },
        "outputId": "ee4515af-8508-4440-a5d0-d22ac61b294e"
      },
      "execution_count": null,
      "outputs": [
        {
          "output_type": "stream",
          "name": "stdout",
          "text": [
            "{'is', 'list', 'a', 'This'}\n"
          ]
        },
        {
          "output_type": "execute_result",
          "data": {
            "text/plain": [
              "{'This', 'a', 'is', 'list'}"
            ]
          },
          "metadata": {},
          "execution_count": 30
        }
      ]
    },
    {
      "cell_type": "markdown",
      "source": [
        "## Tuples\n",
        "\n",
        "Tuples are unmutable arrays."
      ],
      "metadata": {
        "id": "eAIkfuiYDdji"
      }
    },
    {
      "cell_type": "code",
      "source": [
        "#Use parentheses for tuples, square brackets for lists\n",
        "branches = (\"pragmatics\", \"semantics\")"
      ],
      "metadata": {
        "id": "qwTvCmdtDtSW"
      },
      "execution_count": null,
      "outputs": []
    },
    {
      "cell_type": "code",
      "source": [
        "#Tuples can be accessed and their length can be determined as for lists\n",
        "print(branches[0])\n",
        "print(len(branches))"
      ],
      "metadata": {
        "id": "-B9P2oSxDwhL",
        "colab": {
          "base_uri": "https://localhost:8080/"
        },
        "outputId": "c9ca41f2-4fcf-4084-b4d1-d63a9097e9d8"
      },
      "execution_count": null,
      "outputs": [
        {
          "output_type": "stream",
          "name": "stdout",
          "text": [
            "pragmatics\n",
            "2\n"
          ]
        }
      ]
    },
    {
      "cell_type": "code",
      "source": [
        "#Tuples do not support item re-assignment\n",
        "branches[0] = \"phonology\""
      ],
      "metadata": {
        "id": "6-e9FEQ2D7eU",
        "colab": {
          "base_uri": "https://localhost:8080/",
          "height": 199
        },
        "outputId": "0ba025b2-19cb-4a0a-f9c8-84ce86890017"
      },
      "execution_count": null,
      "outputs": [
        {
          "output_type": "error",
          "ename": "TypeError",
          "evalue": "ignored",
          "traceback": [
            "\u001b[0;31m---------------------------------------------------------------------------\u001b[0m",
            "\u001b[0;31mTypeError\u001b[0m                                 Traceback (most recent call last)",
            "\u001b[0;32m<ipython-input-33-d6ee25e63279>\u001b[0m in \u001b[0;36m<cell line: 2>\u001b[0;34m()\u001b[0m\n\u001b[1;32m      1\u001b[0m \u001b[0;31m#Tuples do not support item re-assignment\u001b[0m\u001b[0;34m\u001b[0m\u001b[0;34m\u001b[0m\u001b[0m\n\u001b[0;32m----> 2\u001b[0;31m \u001b[0mbranches\u001b[0m\u001b[0;34m[\u001b[0m\u001b[0;36m0\u001b[0m\u001b[0;34m]\u001b[0m \u001b[0;34m=\u001b[0m \u001b[0;34m\"phonology\"\u001b[0m\u001b[0;34m\u001b[0m\u001b[0;34m\u001b[0m\u001b[0m\n\u001b[0m",
            "\u001b[0;31mTypeError\u001b[0m: 'tuple' object does not support item assignment"
          ]
        }
      ]
    },
    {
      "cell_type": "code",
      "source": [
        "#Create an empty tuple\n",
        "branches = tuple()"
      ],
      "metadata": {
        "id": "qYDCtX5_EdSi"
      },
      "execution_count": null,
      "outputs": []
    },
    {
      "cell_type": "markdown",
      "source": [
        "## Dictionary\n",
        "\n",
        "Dictionaries are hash maps."
      ],
      "metadata": {
        "id": "11TaxZMsEfLa"
      }
    },
    {
      "cell_type": "code",
      "source": [
        "#Create an empty dictionary\n",
        "grades = {}\n",
        "grades = dict()"
      ],
      "metadata": {
        "id": "UionLcFBEqTH"
      },
      "execution_count": null,
      "outputs": []
    },
    {
      "cell_type": "code",
      "source": [
        "#Add the first item to the dictionary\n",
        "grades = {\"Elon\" : \"5\"}\n",
        "#Add a second item to the dictionary\n",
        "grades[\"Mary\"] = \"1\"\n",
        "print(grades)"
      ],
      "metadata": {
        "id": "2y4QnivKFg4F",
        "colab": {
          "base_uri": "https://localhost:8080/"
        },
        "outputId": "b746bc49-3793-4b4b-d1cd-87aaab53a4e0"
      },
      "execution_count": null,
      "outputs": [
        {
          "output_type": "stream",
          "name": "stdout",
          "text": [
            "{'Elon': '5', 'Mary': '1'}\n"
          ]
        }
      ]
    },
    {
      "cell_type": "code",
      "source": [
        "#Check if key is in dictionary\n",
        "print(\"Elon\" in grades)"
      ],
      "metadata": {
        "id": "SzAnO42TGt8n",
        "colab": {
          "base_uri": "https://localhost:8080/"
        },
        "outputId": "cc807d06-60c9-4e1b-fee1-c6e64ed84ff7"
      },
      "execution_count": null,
      "outputs": [
        {
          "output_type": "stream",
          "name": "stdout",
          "text": [
            "True\n"
          ]
        }
      ]
    },
    {
      "cell_type": "code",
      "source": [
        "#Get a value based on the key\n",
        "print(grades[\"Elon\"])"
      ],
      "metadata": {
        "id": "t14MPvCoGzQq",
        "colab": {
          "base_uri": "https://localhost:8080/"
        },
        "outputId": "2e3730b5-1389-4f27-dba7-cfbbf6db05da"
      },
      "execution_count": null,
      "outputs": [
        {
          "output_type": "stream",
          "name": "stdout",
          "text": [
            "5\n"
          ]
        }
      ]
    },
    {
      "cell_type": "code",
      "source": [
        "#Change value\n",
        "grades[\"Elon\"] = 4\n",
        "print(grades)"
      ],
      "metadata": {
        "id": "Yb8lqGGCG7SN",
        "colab": {
          "base_uri": "https://localhost:8080/"
        },
        "outputId": "4aa2a93d-aaea-40a5-de58-94d3c08e99d8"
      },
      "execution_count": null,
      "outputs": [
        {
          "output_type": "stream",
          "name": "stdout",
          "text": [
            "{'Elon': 4, 'Mary': '1'}\n"
          ]
        }
      ]
    },
    {
      "cell_type": "code",
      "source": [
        "#Iterate over dictionary keys and values\n",
        "for key, value in grades.items():\n",
        "  print(key, value)\n",
        "\n",
        "for value in grades.values():\n",
        "  print(value)"
      ],
      "metadata": {
        "id": "ytiOgQHyHUmm",
        "colab": {
          "base_uri": "https://localhost:8080/"
        },
        "outputId": "1a120f03-70c7-4413-cd46-8d685d134650"
      },
      "execution_count": null,
      "outputs": [
        {
          "output_type": "stream",
          "name": "stdout",
          "text": [
            "Elon 4\n",
            "Mary 1\n",
            "4\n",
            "1\n"
          ]
        }
      ]
    },
    {
      "cell_type": "markdown",
      "source": [
        "👋 ⚒ Iterate over both lists simultaneously and write list1 as keys and list2 as corresponding values into a new dictionary."
      ],
      "metadata": {
        "id": "9zm9d_8UHK94"
      }
    },
    {
      "cell_type": "code",
      "source": [
        "list1 = [\"Anna\", \"Hans\", \"Tom\"]\n",
        "list2 = [1, 2, 1]\n",
        "\n",
        "grades = {}\n",
        "\n",
        "\n",
        "#The result should be {'Anna': 1, 'Hans': 2, 'Tom': 1}\n",
        "print(grades)"
      ],
      "metadata": {
        "id": "IVMUvAecHqwo",
        "colab": {
          "base_uri": "https://localhost:8080/"
        },
        "outputId": "91db015a-754b-45b2-b875-8ee599cd4dea"
      },
      "execution_count": null,
      "outputs": [
        {
          "output_type": "stream",
          "name": "stdout",
          "text": [
            "{'Anna': 1, 'Hans': 2, 'Tom': 1}\n"
          ]
        }
      ]
    },
    {
      "cell_type": "code",
      "source": [
        "#Delete an item\n",
        "del grades[\"Tom\"]\n",
        "print(grades)"
      ],
      "metadata": {
        "id": "Pjg2fTTwHC1i",
        "colab": {
          "base_uri": "https://localhost:8080/"
        },
        "outputId": "74d80863-e8d3-4a8a-b9ce-467476ac5cca"
      },
      "execution_count": null,
      "outputs": [
        {
          "output_type": "stream",
          "name": "stdout",
          "text": [
            "{'Anna': 1, 'Hans': 2}\n"
          ]
        }
      ]
    },
    {
      "metadata": {
        "id": "wjWERhaDw9k2"
      },
      "cell_type": "markdown",
      "source": [
        "---\n",
        "\n",
        "## **Lesson 1: Using WordNet to Relate Word Senses**\n",
        "\n",
        "In this lesson we will use an algorithm for Word Sense Disambiguation using WordNet called Lesk. To load and use WordNet in Python, we rely on the [Natural Language Toolkit (NLTK)](https://www.nltk.org/) library, which is preinstalled in Google Colab.\n"
      ]
    },
    {
      "cell_type": "code",
      "source": [
        "# Import the NLTK library and download the resource WordNet\n",
        "import nltk\n",
        "nltk.download('wordnet')"
      ],
      "metadata": {
        "id": "cyVz8LZNJ_FR",
        "colab": {
          "base_uri": "https://localhost:8080/"
        },
        "outputId": "4a5f45bc-1bcb-49a5-efc9-c15ccb8d6ee7"
      },
      "execution_count": null,
      "outputs": [
        {
          "output_type": "stream",
          "name": "stderr",
          "text": [
            "[nltk_data] Downloading package wordnet to /root/nltk_data...\n"
          ]
        },
        {
          "output_type": "execute_result",
          "data": {
            "text/plain": [
              "True"
            ]
          },
          "metadata": {},
          "execution_count": 45
        }
      ]
    },
    {
      "cell_type": "markdown",
      "source": [
        "Let's also mount Google Drive to store the **tutorial1.txt** file from the GitHub repository and load it from there."
      ],
      "metadata": {
        "id": "PrqEjmHsPiwE"
      }
    },
    {
      "cell_type": "code",
      "source": [
        "from google.colab import drive\n",
        "drive.mount('/content/drive')"
      ],
      "metadata": {
        "id": "3MC_UJS-L2JK",
        "colab": {
          "base_uri": "https://localhost:8080/"
        },
        "outputId": "8acf6bc5-1c9f-4417-830e-a81080298642"
      },
      "execution_count": null,
      "outputs": [
        {
          "output_type": "stream",
          "name": "stdout",
          "text": [
            "Mounted at /content/drive\n"
          ]
        }
      ]
    },
    {
      "cell_type": "markdown",
      "source": [
        "We can then use the **wordnet** library to query WordNet synstes directly in Python."
      ],
      "metadata": {
        "id": "-1-RTl5nUMAw"
      }
    },
    {
      "cell_type": "code",
      "source": [
        "from nltk.corpus import wordnet as wn\n",
        "\n",
        "advantage = wn.synset('advantage.n.01')\n",
        "print(\"Definition: \", advantage.definition())\n",
        "print(\"Hypernyms: \", advantage.hypernyms())\n",
        "\n",
        "# Lemma names returns the base form of all the synonyms associated with this specific synset\n",
        "print(\"Lemmas: \", advantage.lemma_names())"
      ],
      "metadata": {
        "id": "8t41rtXvUQbh"
      },
      "execution_count": null,
      "outputs": []
    },
    {
      "cell_type": "markdown",
      "source": [
        "**lambda** is a small anonymous function that consists of *argument : expression* and can take any number of arguments, but only one expression. You can use it to get all the hypernyms() or hypomyns() of a given WordNet synset across hierarchical levels."
      ],
      "metadata": {
        "id": "QIiDf6itJmqq"
      }
    },
    {
      "cell_type": "code",
      "source": [
        "good = wn.synset(\"good.n.01\")\n",
        "hyper = lambda s: s.hypernyms()\n",
        "list(good.closure(hyper))"
      ],
      "metadata": {
        "id": "nLbpU5xJJ8Ov"
      },
      "execution_count": null,
      "outputs": []
    },
    {
      "cell_type": "markdown",
      "source": [
        "The built-in function transitive **closure** returns elements across hierarhical levels, i.e., hypernyms up the hierarchy of WordNet synset **good.n.01** as displayed below. You can specify how many levels of the hierarchy you wish to include by indicating the depth, e.g. `good.closure(hyper, depth=2)`.\n",
        "\n",
        "❓Which synset is on the last level of the hierarchy when no depth is specified?"
      ],
      "metadata": {
        "id": "S2aDhz9cRhvf"
      }
    },
    {
      "cell_type": "markdown",
      "source": [
        "![WordNet_closure.png](data:image/png;base64,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)"
      ],
      "metadata": {
        "id": "63jolHoURQXG"
      }
    },
    {
      "cell_type": "markdown",
      "source": [
        "The depth of two synsets can be used to calculate the degree of relatedness or similarity between two words, e.g. using the built-in Wu & Palmer algorithm. It returns a score between 0 and 1 that denotes how similar two word senses are, based on the depth of the two senses in the taxonomy and that of their Least Common Subsumer (most specific ancestor node). There are a number of other word similarity measures implemented in the wordnet library ([see documentation](https://www.nltk.org/api/nltk.corpus.reader.wordnet.html)).\n",
        "\n",
        "\n",
        "\n"
      ],
      "metadata": {
        "id": "hDiGlRBvSDbZ"
      }
    },
    {
      "cell_type": "code",
      "source": [
        "# Selecting the very first synset returned when querying \"good\" and \"fine\"\n",
        "syn1 = wn.synsets('good')[0]\n",
        "syn2 = wn.synsets('fine')[0]\n",
        "\n",
        "syn1.wup_similarity(syn2)"
      ],
      "metadata": {
        "id": "CA2tmv89Sp5l"
      },
      "execution_count": null,
      "outputs": []
    },
    {
      "cell_type": "markdown",
      "source": [
        "WordNet can also be used to disambiguate the sense of a word in a given context, i.e., Word Sense Disambiguation (WSD). One algorithm to use WordNet for Word Sense Disambiguation is the Lesk algorithm roughly described as\n",
        "\n",
        "```\n",
        "def simplified_lesk(sentence, ambiguous_word):\n",
        "  context <- set of words in the context sentence as list\n",
        "  max_overlap <- 0\n",
        "  best_sense <- most frequent sense of word\n",
        "  for each sense in the synsets of the ambiguous words:\n",
        "    signature <- deduplicated set of all synonyms in the synsets and all words in the synset definitions\n",
        "    overlap <- calculate the overlap of words in the signature and the context\n",
        "    if overlap > max_overlap:\n",
        "      max_overlap = overlap\n",
        "      best_sense = sense\n",
        "  return best_sense\n",
        "```\n"
      ],
      "metadata": {
        "id": "lKOuRo5MXr8w"
      }
    },
    {
      "cell_type": "markdown",
      "source": [
        "👋 ⚒ Implement the Lesk algorithm as described above in the below code cell. Try to really practice programming by implementing it yourself instead of looking up existing solutions online"
      ],
      "metadata": {
        "id": "no5jBT99b2bV"
      }
    },
    {
      "metadata": {
        "id": "FEaHj0r8HqUF"
      },
      "cell_type": "code",
      "source": [
        "# Use this function to specify your Lesk implementation\n",
        "def simplified_lesk(sentence, ambiguous_word):\n",
        "  max_overlap = 0\n",
        "  best_sense = \"\"\n",
        "\n",
        "  # Your code for the Lesk algorithm\n",
        "\n",
        "  return best_sense\n",
        "\n",
        "word = \"high\"\n",
        "sentence = \"The high temperature keeps on rising\"\n",
        "\n",
        "print(simplified_lesk(sentence, word))"
      ],
      "execution_count": null,
      "outputs": []
    },
    {
      "cell_type": "markdown",
      "source": [
        "👋 ⚒ Use the text file **tutorial1.txt** on GitHub to calculate how accurately your version of the Lesk algorithm performs on a mini-gold standard, i.e., a set of words, context sentences and the correct WordNet sense that should be returned by the algorithm."
      ],
      "metadata": {
        "id": "PWAbxr1WbzOH"
      }
    },
    {
      "cell_type": "code",
      "source": [
        "# Replace the following with the path where you stored the file tutorial1.txt\n",
        "text = open(\"Path_to/tutorial1.txt\", \"r\")\n",
        "\n",
        "corr_results = 0\n",
        "total = 0\n",
        "\n",
        "# Read all lines apart from the header row with the column names\n",
        "for line in text.readlines()[1:]:\n",
        "    # Your code to calculate accuracy of Lesk algorithm here\n",
        "\n",
        "print(\"Correct results: \", corr_results)\n",
        "print(\"Percentage: \", corr_results/total)"
      ],
      "metadata": {
        "id": "0rbyh2U0a386",
        "colab": {
          "base_uri": "https://localhost:8080/"
        },
        "outputId": "8301fb4a-a668-4722-81da-67cce3b94db6"
      },
      "execution_count": null,
      "outputs": [
        {
          "output_type": "stream",
          "name": "stdout",
          "text": [
            "Correct results:  0\n"
          ]
        }
      ]
    },
    {
      "metadata": {
        "id": "tHwQybPw3Qkr"
      },
      "cell_type": "markdown",
      "source": [
        "Usually this very simple version of a Lesk algorithm does not achieve a very good accuracy, since it fully relies on the intersection of words in the defintion/synset names and the context sentence.\n",
        "\n",
        "❓Can you come up with any simple ideas of how to improve the Lesk algorithm?\n",
        "\n",
        "👋 ⚒ If there is still time, try to implement your improved version of the Lesk algorithm."
      ]
    },
    {
      "metadata": {
        "id": "-wxAkFTR3PrD"
      },
      "cell_type": "code",
      "source": [
        "# Exercise: improve the above simple Lesk algorithm"
      ],
      "execution_count": null,
      "outputs": []
    }
  ]
}