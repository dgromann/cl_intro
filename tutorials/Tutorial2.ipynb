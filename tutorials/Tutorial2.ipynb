{
  "nbformat": 4,
  "nbformat_minor": 0,
  "metadata": {
    "colab": {
      "provenance": [],
      "authorship_tag": "ABX9TyPP4mZoj2zlps12qGO6lL4B",
      "include_colab_link": true
    },
    "kernelspec": {
      "name": "python3",
      "display_name": "Python 3"
    },
    "language_info": {
      "name": "python"
    }
  },
  "cells": [
    {
      "cell_type": "markdown",
      "metadata": {
        "id": "view-in-github",
        "colab_type": "text"
      },
      "source": [
        "<a href=\"https://colab.research.google.com/github/dgromann/cl_intro/blob/main/tutorials/Tutorial2.ipynb\" target=\"_parent\"><img src=\"https://colab.research.google.com/assets/colab-badge.svg\" alt=\"Open In Colab\"/></a>"
      ]
    },
    {
      "cell_type": "markdown",
      "source": [
        "# Tutorial 2: Introduction to Computational Linguistics\n",
        "\n",
        "This is the second tutorial with practical exercises for the lecture Introduction to Computational Linguistics in the winter semester 2023. Hands-on exercises are marked with 👋 ⚒ and questions are marked with ❓. Remember to first **store this notebook** in your Drive or GitHub.\n",
        "\n",
        "Today's focus is on the traditional NLP processing pipeline, for which we will be using [spaCy](https://spacy.io/) and [Natural Language Toolkit (NLTK)](https://www.nltk.org/)."
      ],
      "metadata": {
        "id": "h38GAB1CbwAJ"
      }
    },
    {
      "cell_type": "markdown",
      "source": [
        "---\n",
        "\n",
        "## **Lesson 2: NLP Pipeline**\n",
        "\n",
        "For the NLP pipeline, we will be using three different libraries today: NLTK, [Stanza](http://stanza.run/), and [spaCy](https://spacy.io/). Thus, we first need to install Stanza."
      ],
      "metadata": {
        "id": "vsFEEJJVaC6i"
      }
    },
    {
      "cell_type": "code",
      "source": [
        "!pip install stanza"
      ],
      "metadata": {
        "id": "q8QJyaSNoLh-"
      },
      "execution_count": null,
      "outputs": []
    },
    {
      "cell_type": "markdown",
      "source": [
        "NLTK and spaCy are already available in a standard Colab Notebook, however, we need to download some packages that we will need in NLTK."
      ],
      "metadata": {
        "id": "rVPDtd67oqAC"
      }
    },
    {
      "cell_type": "code",
      "source": [
        "import nltk\n",
        "nltk.download('averaged_perceptron_tagger')\n",
        "nltk.download('punkt')\n",
        "nltk.download('wordnet')\n",
        "nltk.download('gutenberg')"
      ],
      "metadata": {
        "id": "rzK0cBfWo3H4"
      },
      "execution_count": null,
      "outputs": []
    },
    {
      "cell_type": "markdown",
      "source": [
        "## Tokenization and POS Tagging"
      ],
      "metadata": {
        "id": "eLp4jtydnsv8"
      }
    },
    {
      "cell_type": "markdown",
      "source": [
        "First we will use NLTK to tokenize and POS tag a sample sentence. The tagset that the Perceptron Tagger uses is the [Penn Treebank tagset](https://www.ling.upenn.edu/courses/Fall_2003/ling001/penn_treebank_pos.html).\n",
        "\n",
        "❓ Are the POS tags for the two different uses of *tears* correct? How does their pronunciation differ?\n"
      ],
      "metadata": {
        "id": "zn8fzwacpvv1"
      }
    },
    {
      "cell_type": "code",
      "source": [
        "# Tokenization\n",
        "from nltk.tokenize import word_tokenize\n",
        "# Part-of-Speech tagger\n",
        "from nltk.tag.perceptron import PerceptronTagger\n",
        "\n",
        "tagger = PerceptronTagger()\n",
        "\n",
        "# Example sentences\n",
        "sentence = \"It just tears me apart to see you suffering like that and in tears.\"\n",
        "\n",
        "# Tokenize the sentence\n",
        "print(word_tokenize(sentence))\n",
        "# POS tag each token in the tokenized sentence\n",
        "pos_tags = tagger.tag(word_tokenize(sentence))\n",
        "print(\"Part of speech tags of the sentence: \", pos_tags)"
      ],
      "metadata": {
        "id": "7CodWjelnhdV"
      },
      "execution_count": null,
      "outputs": []
    },
    {
      "cell_type": "markdown",
      "source": [
        "👋 ⚒ Let's do the same in spaCy. Go to the [spaCy documentation](https://spacy.io/usage/linguistic-features) and perform tokenization and POS tagging on the same example sentence. Attention: Only output the tokens, their spaCy internal POS label and the Penn Treebank tags."
      ],
      "metadata": {
        "id": "Fe5ZT8-Oq0Md"
      }
    },
    {
      "cell_type": "code",
      "source": [
        "import spacy\n",
        "\n",
        "nlp = spacy.load(\"en_core_web_sm\")\n",
        "\n",
        "# Your code here"
      ],
      "metadata": {
        "id": "436PBflCrDl-"
      },
      "execution_count": null,
      "outputs": []
    },
    {
      "cell_type": "markdown",
      "source": [
        "## Lemmatization and Stemming\n",
        "\n",
        "We have looked at the comparison between these two in the lecture. Now it is time for you to play around with the two yourself.\n",
        "\n",
        "👋 ⚒ Which stemmer worked better? Which method would you prefer to determine word frequency information of a text corpus?"
      ],
      "metadata": {
        "id": "LlcEyD7_sed0"
      }
    },
    {
      "cell_type": "code",
      "source": [
        "# Lemmatizer\n",
        "from nltk.stem import WordNetLemmatizer\n",
        "\n",
        "# Stemmer\n",
        "from nltk.stem.porter import PorterStemmer\n",
        "from nltk.stem.lancaster import LancasterStemmer\n",
        "from nltk.stem import SnowballStemmer\n",
        "\n",
        "# Lemmatizer\n",
        "lemmatizer = WordNetLemmatizer()\n",
        "\n",
        "# Selection of stemmers\n",
        "ps = PorterStemmer()\n",
        "ls = LancasterStemmer()\n",
        "ss = SnowballStemmer(\"english\")\n",
        "\n",
        "# Exercise: Lemmatize and stem (maybe try different stemmers) the following words\n",
        "words = ['presumably', 'provisions', 'owed', 'abacus', 'flies', 'dies', 'mules',\n",
        "        'seizing', 'caresses', 'sensational', 'colonizer', 'traditional', 'plotted']"
      ],
      "metadata": {
        "id": "icGJ-AhCshbZ"
      },
      "execution_count": null,
      "outputs": []
    },
    {
      "cell_type": "markdown",
      "source": [
        "With spaCy the code is very much the same for lemmatization as for tokenization and POS tagging, exemplified for our example sentence below. The library, unfortunately, has no function for stemming."
      ],
      "metadata": {
        "id": "EZqSI-iIs1E_"
      }
    },
    {
      "cell_type": "code",
      "source": [
        "doc = nlp(sentence)\n",
        "for token in doc:\n",
        "    print(token.text, token.lemma_)"
      ],
      "metadata": {
        "id": "AuDRsRpItCZa"
      },
      "execution_count": null,
      "outputs": []
    },
    {
      "cell_type": "markdown",
      "source": [
        "## Named Entity Recognition (NER)\n",
        "\n",
        "👋 ⚒ Get the results for NER for the following example sentence in spaCy."
      ],
      "metadata": {
        "id": "Wx1hp_Fvux4t"
      }
    },
    {
      "cell_type": "code",
      "source": [
        "example_sentence = \"Vienna is lovely in December.\"\n",
        "\n",
        "# Your code here"
      ],
      "metadata": {
        "id": "p5Fy3XIgvEu7"
      },
      "execution_count": null,
      "outputs": []
    },
    {
      "cell_type": "markdown",
      "source": [
        "## Dependency Parsing\n",
        "\n",
        "Whenever grammatical relations are needed, dependency parsing is very useful. The most common tagset are the [Universal Dependency Relations](https://universaldependencies.org/u/dep/).\n",
        "\n",
        "While there are some options for dependency parsing in NLTK, the successful ones depend on the Stanford Parser. However, Stanza is the more recent version of the Stanford Parser and therefore more useful."
      ],
      "metadata": {
        "id": "VEqPafcmtm4b"
      }
    },
    {
      "cell_type": "code",
      "source": [
        "doc = nlp(example_sentence)\n",
        "\n",
        "for token in doc:\n",
        "    print(token.text, token.dep_, token.head.text, token.head.pos_,\n",
        "            [child for child in token.children])"
      ],
      "metadata": {
        "id": "GuQ2q9Gct7QM"
      },
      "execution_count": null,
      "outputs": []
    },
    {
      "cell_type": "code",
      "source": [
        "# You can also visualize the dependency relations\n",
        "from spacy import displacy\n",
        "displacy.render(doc, style=\"dep\", jupyter=True)"
      ],
      "metadata": {
        "id": "ip0RdHDUxPOE"
      },
      "execution_count": null,
      "outputs": []
    },
    {
      "cell_type": "markdown",
      "source": [
        "In Stanza, we can do all of the above operations in one pipeline. Also spaCy offers a pipeline solution and the combination of several of these parsers in one go."
      ],
      "metadata": {
        "id": "FfizFXSpwNvV"
      }
    },
    {
      "cell_type": "code",
      "source": [
        "import stanza\n",
        "stanza.download('en')"
      ],
      "metadata": {
        "id": "ND90y3fHymeN"
      },
      "execution_count": null,
      "outputs": []
    },
    {
      "cell_type": "markdown",
      "source": [
        "👋 ⚒ The print statement contains two for loops and an if/else statement. Try to split it up from a one-line code back to the two loops and the statement in several lines."
      ],
      "metadata": {
        "id": "K4N7iVza1iaI"
      }
    },
    {
      "cell_type": "code",
      "source": [
        "pipeline = stanza.Pipeline(lang='en', processor='tokenize,pos,lemma,depparse')\n",
        "doc = pipeline(example_sentence)\n",
        "\n",
        "# Try to split the following line into two for statements and one if/else\n",
        "print(*[f'id: {word.id}\\tword: {word.text}\\thead id: {word.head}\\thead: {sent.words[word.head-1].text if word.head > 0 else \"root\"}\\tdeprel: {word.deprel}' for sent in doc.sentences for word in sent.words], sep='\\n')"
      ],
      "metadata": {
        "id": "sprdO5z4wQ3n"
      },
      "execution_count": null,
      "outputs": []
    },
    {
      "cell_type": "markdown",
      "source": [
        "❓ Do you notice any differences between the two types of dependency relations and the output for this sentence? Do the two parsers agree on the existing relations in this sentence?\n"
      ],
      "metadata": {
        "id": "G0sYkUHW1wXS"
      }
    }
  ]
}